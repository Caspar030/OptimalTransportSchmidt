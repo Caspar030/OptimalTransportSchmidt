{
 "cells": [
  {
   "cell_type": "code",
   "execution_count": 34,
   "metadata": {},
   "outputs": [],
   "source": [
    "import numpy as np\n",
    "import matplotlib.pyplot as plt\n",
    "import tensorflow as tf\n",
    "from tensorflow import keras\n",
    "from tensorflow.keras.models import Sequential\n",
    "from tensorflow.keras.layers import Dense\n",
    "from tensorflow.keras.layers import Input\n",
    "from tensorflow.keras.initializers import RandomNormal\n",
    "from tensorflow.keras.optimizers import SGD\n",
    "from scipy.integrate import quad, nquad"
   ]
  },
  {
   "attachments": {},
   "cell_type": "markdown",
   "metadata": {},
   "source": [
    "## Set hyperparameters"
   ]
  },
  {
   "cell_type": "code",
   "execution_count": 35,
   "metadata": {},
   "outputs": [],
   "source": [
    "dim = 1\n",
    "initilizer = RandomNormal(mean=0.0, stddev=1.0)\n",
    "\n",
    "hidden_dim = 4 * dim\n",
    "output_dim = 1\n",
    "\n",
    "activation_func = \"relu\"\n",
    "\n",
    "def create_model(input_dim):\n",
    "    model = Sequential()\n",
    "    model.add(Input(shape=(input_dim,)))\n",
    "    model.add(Dense(units=hidden_dim, activation=activation_func, kernel_initializer=initilizer))\n",
    "    model.add(Dense(units=hidden_dim, activation=activation_func, kernel_initializer=initilizer))\n",
    "    model.add(Dense(units=hidden_dim, activation=activation_func, kernel_initializer=initilizer))\n",
    "    model.add(Dense(units=output_dim, kernel_initializer=initilizer))\n",
    "\n",
    "    return model\n",
    "\n",
    "lr_schedule = keras.optimizers.schedules.ExponentialDecay(\n",
    "    initial_learning_rate=0.01,\n",
    "    decay_steps=10000, decay_rate=0.9\n",
    ")\n",
    "\n",
    "opt = keras.optimizers.Adam(learning_rate=lr_schedule)"
   ]
  },
  {
   "attachments": {},
   "cell_type": "markdown",
   "metadata": {},
   "source": [
    "## Implement loss function"
   ]
  },
  {
   "cell_type": "code",
   "execution_count": 36,
   "metadata": {},
   "outputs": [],
   "source": [
    "lam = 1.0  # Tbc\n",
    "rho = 1.0  # Tbc\n",
    "\n",
    "def f(x):\n",
    "    return 1\n",
    "\n",
    "def h_i(x, i):\n",
    "    return x ** 2  # Tbc\n",
    "\n",
    "def g(x):\n",
    "    return x ** 2  # tbc\n",
    "\n",
    "def mu_i_density(x, i):\n",
    "    return np.exp(-x**2 / 2) / np.sqrt(2 * np.pi)  # tbc\n",
    "\n",
    "def sample_mu(n_samples, dim):\n",
    "    return tf.random.normal((n_samples, dim))  # tbc\n",
    "\n",
    "def beta_gamma():\n",
    "    return 1\n",
    "\n",
    "def cost_function(x, y):\n",
    "    return x+y\n",
    "\n",
    "def theta(x, y):\n",
    "    return 1"
   ]
  },
  {
   "attachments": {},
   "cell_type": "markdown",
   "metadata": {},
   "source": [
    "## Create models"
   ]
  },
  {
   "cell_type": "code",
   "execution_count": 37,
   "metadata": {},
   "outputs": [],
   "source": [
    "g_model = create_model(dim)\n",
    "h_models = [create_model(1) for _ in range(dim)]\n",
    "\n",
    "# g_model.compile(optimizer=opt, loss=CustomLoss())\n",
    "# for model in h_models:\n",
    "#     model.compile(optimizer=opt, loss=CustomLoss())\n",
    "\n",
    "class CombinedModel(tf.keras.Model):\n",
    "    def __init__(self, g_model, h_models):\n",
    "        super(CombinedModel, self).__init__()\n",
    "        self.g_model = g_model\n",
    "        self.h_models = h_models\n",
    "\n",
    "    def call(self, inputs):\n",
    "        g_output = self.g_model(inputs)\n",
    "        h_outputs = [h_model(inputs[:, i:i+1]) for i, h_model in enumerate(self.h_models)]\n",
    "        return g_output, h_outputs\n",
    "\n",
    "combined_model = CombinedModel(g_model, h_models)\n",
    "combined_model.compile(optimizer='adam', loss=CustomLoss())"
   ]
  },
  {
   "attachments": {},
   "cell_type": "markdown",
   "metadata": {},
   "source": [
    "## Loss function"
   ]
  },
  {
   "cell_type": "code",
   "execution_count": 38,
   "metadata": {},
   "outputs": [],
   "source": [
    "def phi_theta_gamma(samples):\n",
    "    #h_integral = tf.reduce_sum(tf.map_fn(lambda i: tf.reduce_mean(h_i(samples[:, i], i)), tf.range(dim), dtype=tf.float32))\n",
    "    h_integral = tf.reduce_sum([tf.reduce_mean(h_model(samples[:, i:i+1])) for i, h_model in enumerate(h_models)])\n",
    "    #g_integral = tf.reduce_mean(tf.map_fn(g, samples, dtype=tf.float32))\n",
    "    g_integral = tf.reduce_mean(g_model(samples))\n",
    "\n",
    "    \n",
    "    # y_values = tf.random.normal((10 ** 4, dim))  # TODO: Not explicit n_samples\n",
    "    # theta_integral = tf.constant(0.0, dtype=tf.float32)\n",
    "    # for x in samples:\n",
    "    #     for y in y_values:\n",
    "    #         integral_value += beta_gamma(f(y) - tf.reduce_sum([h_i(y, i) for i in tf.range(dim)]) - lam * cost_function(x, y) - g(x)) * theta(x, y)\n",
    "\n",
    "    theta_integral = 0\n",
    "\n",
    "    return lam * rho + h_integral + g_integral + theta_integral\n",
    "\n",
    "class CustomLoss(tf.keras.losses.Loss):\n",
    "    def __init__(self):\n",
    "        super().__init__()\n",
    "    \n",
    "    def call(self, x_true, x_pred):\n",
    "        #samples = sample_mu(tf.shape(x_pred)[0], dim)\n",
    "        return phi_theta_gamma(x_pred)"
   ]
  },
  {
   "cell_type": "code",
   "execution_count": 39,
   "metadata": {},
   "outputs": [
    {
     "name": "stdout",
     "output_type": "stream",
     "text": [
      "Epoch 1/5\n",
      "\u001b[1m313/313\u001b[0m \u001b[32m━━━━━━━━━━━━━━━━━━━━\u001b[0m\u001b[37m\u001b[0m \u001b[1m3s\u001b[0m 1ms/step - loss: 3043.9238\n",
      "Epoch 2/5\n",
      "\u001b[1m313/313\u001b[0m \u001b[32m━━━━━━━━━━━━━━━━━━━━\u001b[0m\u001b[37m\u001b[0m \u001b[1m1s\u001b[0m 2ms/step - loss: 652.2734\n",
      "Epoch 3/5\n",
      "\u001b[1m313/313\u001b[0m \u001b[32m━━━━━━━━━━━━━━━━━━━━\u001b[0m\u001b[37m\u001b[0m \u001b[1m1s\u001b[0m 4ms/step - loss: 237.1690\n",
      "Epoch 4/5\n",
      "\u001b[1m313/313\u001b[0m \u001b[32m━━━━━━━━━━━━━━━━━━━━\u001b[0m\u001b[37m\u001b[0m \u001b[1m1s\u001b[0m 4ms/step - loss: 95.2513\n",
      "Epoch 5/5\n",
      "\u001b[1m313/313\u001b[0m \u001b[32m━━━━━━━━━━━━━━━━━━━━\u001b[0m\u001b[37m\u001b[0m \u001b[1m1s\u001b[0m 4ms/step - loss: 30.3263\n"
     ]
    },
    {
     "data": {
      "text/plain": [
       "<keras.src.callbacks.history.History at 0x7efc6c85b410>"
      ]
     },
     "execution_count": 39,
     "metadata": {},
     "output_type": "execute_result"
    }
   ],
   "source": [
    "n_samples = 10 ** 4\n",
    "x_samples = sample_mu(n_samples, dim).numpy()\n",
    "x_true_irrelevant = np.zeros_like(x_samples)\n",
    "\n",
    "combined_model.fit(x_samples, x_true_irrelevant, epochs=5, batch_size=32)"
   ]
  },
  {
   "cell_type": "code",
   "execution_count": 40,
   "metadata": {},
   "outputs": [
    {
     "name": "stdout",
     "output_type": "stream",
     "text": [
      "\u001b[1m16/16\u001b[0m \u001b[32m━━━━━━━━━━━━━━━━━━━━\u001b[0m\u001b[37m\u001b[0m \u001b[1m0s\u001b[0m 6ms/step\n"
     ]
    },
    {
     "data": {
      "image/png": "[encoded data removed]",
      "text/plain": [
       "<Figure size 640x480 with 1 Axes>"
      ]
     },
     "metadata": {},
     "output_type": "display_data"
    }
   ],
   "source": [
    "# Testdaten erstellen\n",
    "x_test = tf.linspace(-10.0, 10.0, 500)\n",
    "x_test = tf.reshape(x_test, (-1, dim))\n",
    "\n",
    "# Vorhersagen mit dem kombinierten Modell\n",
    "g_predictions, h_predictions = combined_model.predict(x_test)\n",
    "\n",
    "# Für die Visualisierung nur g_predictions verwenden\n",
    "plt.plot(x_test[:, 0], g_predictions, label='Approximierte Funktion g(x)')\n",
    "\n",
    "plt.xlabel('x')\n",
    "plt.ylabel('f(x)')\n",
    "plt.legend()\n",
    "plt.show()\n"
   ]
  },
  {
   "attachments": {},
   "cell_type": "markdown",
   "metadata": {},
   "source": [
    "# Not needed"
   ]
  },
  {
   "cell_type": "code",
   "execution_count": 41,
   "metadata": {},
   "outputs": [
    {
     "name": "stderr",
     "output_type": "stream",
     "text": [
      "<>:1: SyntaxWarning: invalid escape sequence '\\g'\n",
      "<>:1: SyntaxWarning: invalid escape sequence '\\g'\n",
      "/tmp/ipykernel_63668/800979208.py:1: SyntaxWarning: invalid escape sequence '\\g'\n",
      "  \"\"\" import numpy as np\n"
     ]
    },
    {
     "data": {
      "text/plain": [
       "' import numpy as np\\nfrom scipy.optimize import minimize\\nfrom scipy.integrate import quad, nquad\\n\\n# Beispiel für \\rho\\nrho = 1.0  # Anpassen je nach Definition\\nlambda_val = 1.0\\n\\n#Dummy-Beispiel für h_i und g. Muss später per NN optimiert werden (?).\\ndef h_i(x, i):\\n    return x**2\\n\\ndef g(x):\\n    return sum(x)\\n\\n# Beispiel für \\x08eta_{\\\\gamma} Funktion\\ndef beta_gamma(z, gamma):\\n    # Dummy-Beispiel für die Funktion, anpassen je nach Definition\\n    return np.exp(-gamma * z**2)\\n\\n# Dummy-Funktion für Verteilungen \\x08ar{\\\\mu}_i und \\x08ar{\\\\mu}\\ndef mu_i_density(y, i):\\n    # Dummy-Dichtefunktion, anpassen je nach Definition\\n    return np.exp(-y**2 / 2) / np.sqrt(2 * np.pi)\\n\\ndef mu_density(x):\\n    # Dummy-Dichtefunktion, anpassen je nach Definition\\n    return np.exp(-np.sum(x**2) / 2) / (2 * np.pi)**(len(x)/2)\\n\\n# Kostenfunktion c(x, y)\\ndef cost_function(x, y):\\n    # Beispiel-Kostenfunktion, anpassen je nach Definition\\n    return np.linalg.norm(x - y)\\n\\n# Funktion \\\\phi_{\\theta,\\\\gamma}(f)\\ndef phi_theta_gamma(f, theta, gamma, d):\\n\\n    # Integrale berechnen\\n    h_integral = sum(quad(lambda y: h_i(y, i) * mu_i_density(y, i), -np.inf, np.inf)[0] for i in range(d))\\n    g_integral = nquad(lambda *x: g(x) * mu_density(np.array(x)), [(-np.inf, np.inf)] * d)[0]\\n\\n    def integrand(x, y):\\n            return beta_gamma(f(y) - sum(h_i(y[0], i) for i in range(d)) - lambda_val * cost_function(x, y) - g, gamma) * theta(x, y)\\n\\n    beta_integral = nquad(integrand, [(-np.inf, np.inf)] * (2*d))\\n\\n    return lambda_val * rho + h_integral + g_integral + beta_integral\\n\\n\\n    # # Initiale Parameter\\n    # initial_params = np.zeros(d + 1 + d)\\n    \\n    # # Optimierung\\n    # result = minimize(objective, initial_params, method=\\'SLSQP\\')\\n    \\n    # return result.fun\\n\\n\\n# Beispielaufruf der Funktion\\nif __name__ == \"__main__\":\\n    # Dummy \\theta Funktion\\n    def theta(x, y):\\n        return 1.0  # Dummy-Wert, anpassen je nach Definition\\n\\n    # Dummy f Funktion\\n    def f(y):\\n        return np.sum(y**2)  # Dummy-Wert, anpassen je nach Definition\\n\\n    # Parameter\\n    gamma = 1.0\\n    d = 1  # Dimension\\n\\n    # Funktionsaufruf\\n    result = phi_theta_gamma(f, theta, gamma, d)\\n    print(f\\'Result: {result}\\')\\n '"
      ]
     },
     "execution_count": 41,
     "metadata": {},
     "output_type": "execute_result"
    }
   ],
   "source": [
    "\"\"\" import numpy as np\n",
    "from scipy.optimize import minimize\n",
    "from scipy.integrate import quad, nquad\n",
    "\n",
    "# Beispiel für \\rho\n",
    "rho = 1.0  # Anpassen je nach Definition\n",
    "lambda_val = 1.0\n",
    "\n",
    "#Dummy-Beispiel für h_i und g. Muss später per NN optimiert werden (?).\n",
    "def h_i(x, i):\n",
    "    return x**2\n",
    "\n",
    "def g(x):\n",
    "    return sum(x)\n",
    "\n",
    "# Beispiel für \\beta_{\\gamma} Funktion\n",
    "def beta_gamma(z, gamma):\n",
    "    # Dummy-Beispiel für die Funktion, anpassen je nach Definition\n",
    "    return np.exp(-gamma * z**2)\n",
    "\n",
    "# Dummy-Funktion für Verteilungen \\bar{\\mu}_i und \\bar{\\mu}\n",
    "def mu_i_density(y, i):\n",
    "    # Dummy-Dichtefunktion, anpassen je nach Definition\n",
    "    return np.exp(-y**2 / 2) / np.sqrt(2 * np.pi)\n",
    "\n",
    "def mu_density(x):\n",
    "    # Dummy-Dichtefunktion, anpassen je nach Definition\n",
    "    return np.exp(-np.sum(x**2) / 2) / (2 * np.pi)**(len(x)/2)\n",
    "\n",
    "# Kostenfunktion c(x, y)\n",
    "def cost_function(x, y):\n",
    "    # Beispiel-Kostenfunktion, anpassen je nach Definition\n",
    "    return np.linalg.norm(x - y)\n",
    "\n",
    "# Funktion \\phi_{\\theta,\\gamma}(f)\n",
    "def phi_theta_gamma(f, theta, gamma, d):\n",
    "\n",
    "    # Integrale berechnen\n",
    "    h_integral = sum(quad(lambda y: h_i(y, i) * mu_i_density(y, i), -np.inf, np.inf)[0] for i in range(d))\n",
    "    g_integral = nquad(lambda *x: g(x) * mu_density(np.array(x)), [(-np.inf, np.inf)] * d)[0]\n",
    "\n",
    "    def integrand(x, y):\n",
    "            return beta_gamma(f(y) - sum(h_i(y[0], i) for i in range(d)) - lambda_val * cost_function(x, y) - g, gamma) * theta(x, y)\n",
    "\n",
    "    beta_integral = nquad(integrand, [(-np.inf, np.inf)] * (2*d))\n",
    "\n",
    "    return lambda_val * rho + h_integral + g_integral + beta_integral\n",
    "\n",
    "\n",
    "    # # Initiale Parameter\n",
    "    # initial_params = np.zeros(d + 1 + d)\n",
    "    \n",
    "    # # Optimierung\n",
    "    # result = minimize(objective, initial_params, method='SLSQP')\n",
    "    \n",
    "    # return result.fun\n",
    "\n",
    "\n",
    "# Beispielaufruf der Funktion\n",
    "if __name__ == \"__main__\":\n",
    "    # Dummy \\theta Funktion\n",
    "    def theta(x, y):\n",
    "        return 1.0  # Dummy-Wert, anpassen je nach Definition\n",
    "\n",
    "    # Dummy f Funktion\n",
    "    def f(y):\n",
    "        return np.sum(y**2)  # Dummy-Wert, anpassen je nach Definition\n",
    "\n",
    "    # Parameter\n",
    "    gamma = 1.0\n",
    "    d = 1  # Dimension\n",
    "\n",
    "    # Funktionsaufruf\n",
    "    result = phi_theta_gamma(f, theta, gamma, d)\n",
    "    print(f'Result: {result}')\n",
    " \"\"\""
   ]
  },
  {
   "cell_type": "code",
   "execution_count": 42,
   "metadata": {},
   "outputs": [
    {
     "name": "stdout",
     "output_type": "stream",
     "text": [
      "Epoch 1/50\n",
      "\u001b[1m32/32\u001b[0m \u001b[32m━━━━━━━━━━━━━━━━━━━━\u001b[0m\u001b[37m\u001b[0m \u001b[1m1s\u001b[0m 1ms/step - loss: 1.1893   \n",
      "Epoch 2/50\n",
      "\u001b[1m32/32\u001b[0m \u001b[32m━━━━━━━━━━━━━━━━━━━━\u001b[0m\u001b[37m\u001b[0m \u001b[1m0s\u001b[0m 1ms/step - loss: 0.0115 \n",
      "Epoch 3/50\n",
      "\u001b[1m32/32\u001b[0m \u001b[32m━━━━━━━━━━━━━━━━━━━━\u001b[0m\u001b[37m\u001b[0m \u001b[1m0s\u001b[0m 1ms/step - loss: 6.5909e-04\n",
      "Epoch 4/50\n",
      "\u001b[1m32/32\u001b[0m \u001b[32m━━━━━━━━━━━━━━━━━━━━\u001b[0m\u001b[37m\u001b[0m \u001b[1m0s\u001b[0m 1ms/step - loss: 7.2781e-05 \n",
      "Epoch 5/50\n",
      "\u001b[1m32/32\u001b[0m \u001b[32m━━━━━━━━━━━━━━━━━━━━\u001b[0m\u001b[37m\u001b[0m \u001b[1m0s\u001b[0m 1ms/step - loss: 3.2870e-05 \n",
      "Epoch 6/50\n",
      "\u001b[1m32/32\u001b[0m \u001b[32m━━━━━━━━━━━━━━━━━━━━\u001b[0m\u001b[37m\u001b[0m \u001b[1m0s\u001b[0m 1ms/step - loss: 2.0572e-05 \n",
      "Epoch 7/50\n",
      "\u001b[1m32/32\u001b[0m \u001b[32m━━━━━━━━━━━━━━━━━━━━\u001b[0m\u001b[37m\u001b[0m \u001b[1m0s\u001b[0m 1ms/step - loss: 1.8835e-05 \n",
      "Epoch 8/50\n",
      "\u001b[1m32/32\u001b[0m \u001b[32m━━━━━━━━━━━━━━━━━━━━\u001b[0m\u001b[37m\u001b[0m \u001b[1m0s\u001b[0m 1ms/step - loss: 1.3968e-05 \n",
      "Epoch 9/50\n",
      "\u001b[1m32/32\u001b[0m \u001b[32m━━━━━━━━━━━━━━━━━━━━\u001b[0m\u001b[37m\u001b[0m \u001b[1m0s\u001b[0m 1ms/step - loss: 1.0251e-05 \n",
      "Epoch 10/50\n",
      "\u001b[1m32/32\u001b[0m \u001b[32m━━━━━━━━━━━━━━━━━━━━\u001b[0m\u001b[37m\u001b[0m \u001b[1m0s\u001b[0m 1ms/step - loss: 9.5888e-06 \n",
      "Epoch 11/50\n",
      "\u001b[1m32/32\u001b[0m \u001b[32m━━━━━━━━━━━━━━━━━━━━\u001b[0m\u001b[37m\u001b[0m \u001b[1m0s\u001b[0m 1ms/step - loss: 9.7330e-06 \n",
      "Epoch 12/50\n",
      "\u001b[1m32/32\u001b[0m \u001b[32m━━━━━━━━━━━━━━━━━━━━\u001b[0m\u001b[37m\u001b[0m \u001b[1m0s\u001b[0m 1ms/step - loss: 7.0350e-06 \n",
      "Epoch 13/50\n",
      "\u001b[1m32/32\u001b[0m \u001b[32m━━━━━━━━━━━━━━━━━━━━\u001b[0m\u001b[37m\u001b[0m \u001b[1m0s\u001b[0m 1ms/step - loss: 5.0735e-06 \n",
      "Epoch 14/50\n",
      "\u001b[1m32/32\u001b[0m \u001b[32m━━━━━━━━━━━━━━━━━━━━\u001b[0m\u001b[37m\u001b[0m \u001b[1m0s\u001b[0m 2ms/step - loss: 4.6263e-06\n",
      "Epoch 15/50\n",
      "\u001b[1m32/32\u001b[0m \u001b[32m━━━━━━━━━━━━━━━━━━━━\u001b[0m\u001b[37m\u001b[0m \u001b[1m0s\u001b[0m 2ms/step - loss: 5.0638e-06\n",
      "Epoch 16/50\n",
      "\u001b[1m32/32\u001b[0m \u001b[32m━━━━━━━━━━━━━━━━━━━━\u001b[0m\u001b[37m\u001b[0m \u001b[1m0s\u001b[0m 2ms/step - loss: 4.0607e-06\n",
      "Epoch 17/50\n",
      "\u001b[1m32/32\u001b[0m \u001b[32m━━━━━━━━━━━━━━━━━━━━\u001b[0m\u001b[37m\u001b[0m \u001b[1m0s\u001b[0m 2ms/step - loss: 2.8801e-06\n",
      "Epoch 18/50\n",
      "\u001b[1m32/32\u001b[0m \u001b[32m━━━━━━━━━━━━━━━━━━━━\u001b[0m\u001b[37m\u001b[0m \u001b[1m0s\u001b[0m 3ms/step - loss: 2.3871e-06\n",
      "Epoch 19/50\n",
      "\u001b[1m32/32\u001b[0m \u001b[32m━━━━━━━━━━━━━━━━━━━━\u001b[0m\u001b[37m\u001b[0m \u001b[1m0s\u001b[0m 3ms/step - loss: 1.7979e-06\n",
      "Epoch 20/50\n",
      "\u001b[1m32/32\u001b[0m \u001b[32m━━━━━━━━━━━━━━━━━━━━\u001b[0m\u001b[37m\u001b[0m \u001b[1m0s\u001b[0m 3ms/step - loss: 1.3019e-06\n",
      "Epoch 21/50\n",
      "\u001b[1m32/32\u001b[0m \u001b[32m━━━━━━━━━━━━━━━━━━━━\u001b[0m\u001b[37m\u001b[0m \u001b[1m0s\u001b[0m 3ms/step - loss: 1.0423e-06\n",
      "Epoch 22/50\n",
      "\u001b[1m32/32\u001b[0m \u001b[32m━━━━━━━━━━━━━━━━━━━━\u001b[0m\u001b[37m\u001b[0m \u001b[1m0s\u001b[0m 3ms/step - loss: 9.3431e-07\n",
      "Epoch 23/50\n",
      "\u001b[1m32/32\u001b[0m \u001b[32m━━━━━━━━━━━━━━━━━━━━\u001b[0m\u001b[37m\u001b[0m \u001b[1m0s\u001b[0m 3ms/step - loss: 5.8066e-07\n",
      "Epoch 24/50\n",
      "\u001b[1m32/32\u001b[0m \u001b[32m━━━━━━━━━━━━━━━━━━━━\u001b[0m\u001b[37m\u001b[0m \u001b[1m0s\u001b[0m 3ms/step - loss: 5.3659e-07\n",
      "Epoch 25/50\n",
      "\u001b[1m32/32\u001b[0m \u001b[32m━━━━━━━━━━━━━━━━━━━━\u001b[0m\u001b[37m\u001b[0m \u001b[1m0s\u001b[0m 2ms/step - loss: 4.8209e-07 \n",
      "Epoch 26/50\n",
      "\u001b[1m32/32\u001b[0m \u001b[32m━━━━━━━━━━━━━━━━━━━━\u001b[0m\u001b[37m\u001b[0m \u001b[1m0s\u001b[0m 1ms/step - loss: 3.8519e-07 \n",
      "Epoch 27/50\n",
      "\u001b[1m32/32\u001b[0m \u001b[32m━━━━━━━━━━━━━━━━━━━━\u001b[0m\u001b[37m\u001b[0m \u001b[1m0s\u001b[0m 2ms/step - loss: 4.2476e-07 \n",
      "Epoch 28/50\n",
      "\u001b[1m32/32\u001b[0m \u001b[32m━━━━━━━━━━━━━━━━━━━━\u001b[0m\u001b[37m\u001b[0m \u001b[1m0s\u001b[0m 1ms/step - loss: 3.5263e-07 \n",
      "Epoch 29/50\n",
      "\u001b[1m32/32\u001b[0m \u001b[32m━━━━━━━━━━━━━━━━━━━━\u001b[0m\u001b[37m\u001b[0m \u001b[1m0s\u001b[0m 1ms/step - loss: 3.7197e-07 \n",
      "Epoch 30/50\n",
      "\u001b[1m32/32\u001b[0m \u001b[32m━━━━━━━━━━━━━━━━━━━━\u001b[0m\u001b[37m\u001b[0m \u001b[1m0s\u001b[0m 3ms/step - loss: 3.7839e-07\n",
      "Epoch 31/50\n",
      "\u001b[1m32/32\u001b[0m \u001b[32m━━━━━━━━━━━━━━━━━━━━\u001b[0m\u001b[37m\u001b[0m \u001b[1m0s\u001b[0m 3ms/step - loss: 2.4714e-07\n",
      "Epoch 32/50\n",
      "\u001b[1m32/32\u001b[0m \u001b[32m━━━━━━━━━━━━━━━━━━━━\u001b[0m\u001b[37m\u001b[0m \u001b[1m0s\u001b[0m 2ms/step - loss: 2.7474e-07\n",
      "Epoch 33/50\n",
      "\u001b[1m32/32\u001b[0m \u001b[32m━━━━━━━━━━━━━━━━━━━━\u001b[0m\u001b[37m\u001b[0m \u001b[1m0s\u001b[0m 2ms/step - loss: 2.5738e-07\n",
      "Epoch 34/50\n",
      "\u001b[1m32/32\u001b[0m \u001b[32m━━━━━━━━━━━━━━━━━━━━\u001b[0m\u001b[37m\u001b[0m \u001b[1m0s\u001b[0m 2ms/step - loss: 2.9006e-07\n",
      "Epoch 35/50\n",
      "\u001b[1m32/32\u001b[0m \u001b[32m━━━━━━━━━━━━━━━━━━━━\u001b[0m\u001b[37m\u001b[0m \u001b[1m0s\u001b[0m 1ms/step - loss: 2.3974e-07 \n",
      "Epoch 36/50\n",
      "\u001b[1m32/32\u001b[0m \u001b[32m━━━━━━━━━━━━━━━━━━━━\u001b[0m\u001b[37m\u001b[0m \u001b[1m0s\u001b[0m 1ms/step - loss: 1.5193e-07 \n",
      "Epoch 37/50\n",
      "\u001b[1m32/32\u001b[0m \u001b[32m━━━━━━━━━━━━━━━━━━━━\u001b[0m\u001b[37m\u001b[0m \u001b[1m0s\u001b[0m 1ms/step - loss: 1.6057e-07 \n",
      "Epoch 38/50\n",
      "\u001b[1m32/32\u001b[0m \u001b[32m━━━━━━━━━━━━━━━━━━━━\u001b[0m\u001b[37m\u001b[0m \u001b[1m0s\u001b[0m 1ms/step - loss: 3.2899e-07 \n",
      "Epoch 39/50\n",
      "\u001b[1m32/32\u001b[0m \u001b[32m━━━━━━━━━━━━━━━━━━━━\u001b[0m\u001b[37m\u001b[0m \u001b[1m0s\u001b[0m 1ms/step - loss: 7.9575e-07 \n",
      "Epoch 40/50\n",
      "\u001b[1m32/32\u001b[0m \u001b[32m━━━━━━━━━━━━━━━━━━━━\u001b[0m\u001b[37m\u001b[0m \u001b[1m0s\u001b[0m 3ms/step - loss: 4.4048e-07\n",
      "Epoch 41/50\n",
      "\u001b[1m32/32\u001b[0m \u001b[32m━━━━━━━━━━━━━━━━━━━━\u001b[0m\u001b[37m\u001b[0m \u001b[1m0s\u001b[0m 4ms/step - loss: 1.5451e-07\n",
      "Epoch 42/50\n",
      "\u001b[1m32/32\u001b[0m \u001b[32m━━━━━━━━━━━━━━━━━━━━\u001b[0m\u001b[37m\u001b[0m \u001b[1m0s\u001b[0m 1ms/step - loss: 1.9291e-07 \n",
      "Epoch 43/50\n",
      "\u001b[1m32/32\u001b[0m \u001b[32m━━━━━━━━━━━━━━━━━━━━\u001b[0m\u001b[37m\u001b[0m \u001b[1m0s\u001b[0m 1ms/step - loss: 2.1314e-07 \n",
      "Epoch 44/50\n",
      "\u001b[1m32/32\u001b[0m \u001b[32m━━━━━━━━━━━━━━━━━━━━\u001b[0m\u001b[37m\u001b[0m \u001b[1m0s\u001b[0m 3ms/step - loss: 1.6199e-07\n",
      "Epoch 45/50\n",
      "\u001b[1m32/32\u001b[0m \u001b[32m━━━━━━━━━━━━━━━━━━━━\u001b[0m\u001b[37m\u001b[0m \u001b[1m0s\u001b[0m 1ms/step - loss: 1.8121e-07 \n",
      "Epoch 46/50\n",
      "\u001b[1m32/32\u001b[0m \u001b[32m━━━━━━━━━━━━━━━━━━━━\u001b[0m\u001b[37m\u001b[0m \u001b[1m0s\u001b[0m 1ms/step - loss: 1.9335e-07 \n",
      "Epoch 47/50\n",
      "\u001b[1m32/32\u001b[0m \u001b[32m━━━━━━━━━━━━━━━━━━━━\u001b[0m\u001b[37m\u001b[0m \u001b[1m0s\u001b[0m 1ms/step - loss: 1.3552e-07 \n",
      "Epoch 48/50\n",
      "\u001b[1m32/32\u001b[0m \u001b[32m━━━━━━━━━━━━━━━━━━━━\u001b[0m\u001b[37m\u001b[0m \u001b[1m0s\u001b[0m 1ms/step - loss: 2.2084e-07 \n",
      "Epoch 49/50\n",
      "\u001b[1m32/32\u001b[0m \u001b[32m━━━━━━━━━━━━━━━━━━━━\u001b[0m\u001b[37m\u001b[0m \u001b[1m0s\u001b[0m 1ms/step - loss: 4.8901e-07 \n",
      "Epoch 50/50\n",
      "\u001b[1m32/32\u001b[0m \u001b[32m━━━━━━━━━━━━━━━━━━━━\u001b[0m\u001b[37m\u001b[0m \u001b[1m0s\u001b[0m 3ms/step - loss: 1.2552e-06\n",
      "\u001b[1m4/4\u001b[0m \u001b[32m━━━━━━━━━━━━━━━━━━━━\u001b[0m\u001b[37m\u001b[0m \u001b[1m0s\u001b[0m 14ms/step\n"
     ]
    },
    {
     "data": {
      "image/png": "[encoded data removed]",
      "text/plain": [
       "<Figure size 640x480 with 1 Axes>"
      ]
     },
     "metadata": {},
     "output_type": "display_data"
    }
   ],
   "source": [
    "import numpy as np\n",
    "import tensorflow as tf\n",
    "from tensorflow.keras.models import Sequential\n",
    "from tensorflow.keras.layers import Dense\n",
    "from tensorflow.keras.optimizers import Adam\n",
    "\n",
    "# Beispiel-Optimierungsproblem: Minimierung von (x - 2)^2\n",
    "# Ziel ist es, eine Funktion f(x) zu approximieren, die dieses Problem minimiert.\n",
    "\n",
    "# Erstellen Sie einige Beispiel-Daten (unüberwachtes Lernen)\n",
    "x_train = np.random.rand(1000, 1) * 4 - 2  # Werte zwischen -2 und 2\n",
    "\n",
    "# Definieren Sie die Struktur des neuronalen Netzes\n",
    "model2 = Sequential([\n",
    "    Dense(64, activation='relu', input_shape=(1,)),\n",
    "    Dense(64, activation='relu'),\n",
    "    Dense(1)\n",
    "])\n",
    "\n",
    "# Definieren Sie die benutzerdefinierte Verlustfunktion\n",
    "def custom_loss(y_true, y_pred):\n",
    "    return tf.reduce_mean((y_pred - 2) ** 2)  # Beispiel: (f(x) - 2)^2\n",
    "\n",
    "# Kompilieren Sie das Modell mit der benutzerdefinierten Verlustfunktion\n",
    "model2.compile(optimizer=Adam(learning_rate=0.01), loss=custom_loss)\n",
    "\n",
    "# Da es sich um unüberwachtes Lernen handelt, können wir Dummy-Zielwerte verwenden (werden nicht wirklich verwendet)\n",
    "y_dummy = np.zeros_like(x_train)\n",
    "\n",
    "# Trainieren Sie das Modell\n",
    "model2.fit(x_train, y_dummy, epochs=50, batch_size=32)\n",
    "\n",
    "# Testen Sie das Modell\n",
    "x_test = np.linspace(-2, 2, 100).reshape(-1, 1)\n",
    "y_pred = model2.predict(x_test)\n",
    "\n",
    "import matplotlib.pyplot as plt\n",
    "\n",
    "plt.plot(x_test, y_pred, label='Approximierte Funktion')\n",
    "plt.axhline(2, color='r', linestyle='--', label='Zielwert 2')\n",
    "plt.xlabel('x')\n",
    "plt.ylabel('f(x)')\n",
    "plt.legend()\n",
    "plt.show()\n"
   ]
  }
 ],
 "metadata": {
  "kernelspec": {
   "display_name": "MLstoch",
   "language": "python",
   "name": "python3"
  },
  "language_info": {
   "codemirror_mode": {
    "name": "ipython",
    "version": 3
   },
   "file_extension": ".py",
   "mimetype": "text/x-python",
   "name": "python",
   "nbconvert_exporter": "python",
   "pygments_lexer": "ipython3",
   "version": "3.12.3"
  },
  "orig_nbformat": 4
 },
 "nbformat": 4,
 "nbformat_minor": 2
}
